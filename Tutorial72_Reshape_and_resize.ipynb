{
  "nbformat": 4,
  "nbformat_minor": 0,
  "metadata": {
    "colab": {
      "name": "Tutorial72_Reshape-and-resize.ipynb",
      "provenance": [],
      "authorship_tag": "ABX9TyO0xgAoJwKidUv9VjrQC/+6",
      "include_colab_link": true
    },
    "kernelspec": {
      "name": "python3",
      "display_name": "Python 3"
    }
  },
  "cells": [
    {
      "cell_type": "markdown",
      "metadata": {
        "id": "view-in-github",
        "colab_type": "text"
      },
      "source": [
        "<a href=\"https://colab.research.google.com/github/Shambhavi-Gupta/Tutorial72_Reshape-and-resize/blob/main/Tutorial72_Reshape_and_resize.ipynb\" target=\"_parent\"><img src=\"https://colab.research.google.com/assets/colab-badge.svg\" alt=\"Open In Colab\"/></a>"
      ]
    },
    {
      "cell_type": "code",
      "metadata": {
        "id": "e2CgRseqtK_y"
      },
      "source": [
        "import numpy as np\r\n",
        "#help(np.reshape)\r\n",
        "# a = np.arange(10)\r\n",
        "# # print(a)\r\n",
        "# # print(a.shape)\r\n",
        "# b = np.reshape(a,(5,2))\r\n",
        "# print(b)\r\n",
        "# c = np.reshape(a, (5,2), order=\"F\")\r\n",
        "# print(c)\r\n",
        "\r\n",
        "#help(np.resize)\r\n",
        "a = np.arange(5)\r\n",
        "#print(a)\r\n",
        "print(np.resize(a,(2,3)))"
      ],
      "execution_count": null,
      "outputs": []
    }
  ]
}